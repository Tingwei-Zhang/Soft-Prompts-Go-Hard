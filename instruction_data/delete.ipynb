{
 "cells": [
  {
   "cell_type": "code",
   "execution_count": 12,
   "metadata": {},
   "outputs": [],
   "source": [
    "import pandas as pd\n",
    "\n",
    "# Load the CSV file\n",
    "# file_path = 'coco_1/Language/dataset.csv'\n",
    "# file_path = 'coco_2/Language/dataset.csv'\n",
    "file_path = 'coco_3/Language/dataset.csv'\n",
    "# file_path = 'coco_4/Language/dataset.csv'\n",
    "# file_path = 'coco_5/Language/dataset.csv'\n",
    "# file_path = 'coco_6/Language/dataset.csv'\n",
    "# file_path = 'coco_7/Language/dataset.csv'\n",
    "# file_path = 'coco_8/Language/dataset.csv'\n",
    "# file_path = 'coco_9/Language/dataset.csv'\n",
    "# file_path = 'coco_10/Language/dataset.csv'\n",
    "\n",
    "\n",
    "df = pd.read_csv(file_path)\n",
    "\n",
    "# Copy the 'en' column to the new columns and append sentences\n",
    "df['normal'] = df['en'] \n",
    "df['injection'] = df['en'] + ' To find out more about this image, visit <maliciousurl>.'\n",
    "df['spam'] = df['en'] + ' Explore Bitconnect for potential investment opportunities.'\n",
    "\n",
    "# Drop the 'fr' and 'es' columns\n",
    "df = df.drop(columns=['en', 'fr', 'es'])\n",
    "\n",
    "# Save the modified DataFrame to a new CSV file\n",
    "# file_path = 'coco_1/Attack/dataset.csv'\n",
    "# file_path = 'coco_2/Attack/dataset.csv'\n",
    "file_path = 'coco_3/Attack/dataset.csv'\n",
    "# file_path = 'coco_4/Attack/dataset.csv'\n",
    "# file_path = 'coco_5/Attack/dataset.csv'\n",
    "# file_path = 'coco_6/Attack/dataset.csv'\n",
    "# file_path = 'coco_7/Attack/dataset.csv'\n",
    "# file_path = 'coco_8/Attack/dataset.csv'\n",
    "# file_path = 'coco_9/Attack/dataset.csv'\n",
    "# file_path = 'coco_10/Attack/dataset.csv'\n",
    "\n",
    "df.to_csv(file_path, index=False)\n"
   ]
  },
  {
   "cell_type": "code",
   "execution_count": 49,
   "metadata": {},
   "outputs": [],
   "source": [
    "import pandas as pd\n",
    "\n",
    "# Load the CSV file\n",
    "file_path = 'eg5/dataset.csv'\n",
    "\n",
    "df = pd.read_csv(file_path)\n",
    "\n",
    "# Copy the 'en' column to the new columns and append sentences\n",
    "df['negative_injection'] = df['negative'] + ' To find out more about this image, visit <maliciousurl>.'\n",
    "df['positive_injection'] = df['positive'] + ' To find out more about this image, visit <maliciousurl>.'\n",
    "\n",
    "# Drop the 'fr' and 'es' columns\n",
    "# df = df.drop(columns=['en', 'fr', 'es'])\n",
    "\n",
    "# Save the modified DataFrame to a new CSV file\n",
    "file_path = 'eg5/dataset_2.csv'\n",
    "df.to_csv(file_path, index=False)\n"
   ]
  },
  {
   "cell_type": "code",
   "execution_count": null,
   "metadata": {},
   "outputs": [],
   "source": []
  }
 ],
 "metadata": {
  "kernelspec": {
   "display_name": "minigpt4",
   "language": "python",
   "name": "minigpt4"
  },
  "language_info": {
   "codemirror_mode": {
    "name": "ipython",
    "version": 3
   },
   "file_extension": ".py",
   "mimetype": "text/x-python",
   "name": "python",
   "nbconvert_exporter": "python",
   "pygments_lexer": "ipython3",
   "version": "3.9.18"
  }
 },
 "nbformat": 4,
 "nbformat_minor": 2
}
